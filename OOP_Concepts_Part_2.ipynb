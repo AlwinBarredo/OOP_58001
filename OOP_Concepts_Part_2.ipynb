{
  "nbformat": 4,
  "nbformat_minor": 0,
  "metadata": {
    "colab": {
      "provenance": [],
      "authorship_tag": "ABX9TyM7ZbZBwUIK55c5levrbc8r",
      "include_colab_link": true
    },
    "kernelspec": {
      "name": "python3",
      "display_name": "Python 3"
    },
    "language_info": {
      "name": "python"
    }
  },
  "cells": [
    {
      "cell_type": "markdown",
      "metadata": {
        "id": "view-in-github",
        "colab_type": "text"
      },
      "source": [
        "<a href=\"https://colab.research.google.com/github/AlwinBarredo/OOP_58001/blob/main/OOP_Concepts_Part_2.ipynb\" target=\"_parent\"><img src=\"https://colab.research.google.com/assets/colab-badge.svg\" alt=\"Open In Colab\"/></a>"
      ]
    },
    {
      "cell_type": "code",
      "source": [
        "class foo:\n",
        "  def __init__(self, a ,b):\n",
        "    self.a = a\n",
        "    self.b = b\n",
        "  def add(self):\n",
        "    return self.a + self.b\n",
        "\n",
        "foo_object = foo(3,4)\n",
        "foo_object.add()"
      ],
      "metadata": {
        "colab": {
          "base_uri": "https://localhost:8080/"
        },
        "id": "3EluoWcPkY0a",
        "outputId": "fc391ce0-cd07-41af-c86e-33b46bcf92b4"
      },
      "execution_count": 11,
      "outputs": [
        {
          "output_type": "execute_result",
          "data": {
            "text/plain": [
              "7"
            ]
          },
          "metadata": {},
          "execution_count": 11
        }
      ]
    },
    {
      "cell_type": "code",
      "source": [
        "class foo:\n",
        "  def __init__(self, a, b):\n",
        "    self.__a = a\n",
        "    self.__b = b\n",
        "  def add(self):\n",
        "    return self.__a + self.__b\n",
        "\n",
        "foo_object = foo(3,4)\n",
        "foo_object.add()\n",
        "foo_object.a = 5\n",
        "foo_object.add()"
      ],
      "metadata": {
        "colab": {
          "base_uri": "https://localhost:8080/"
        },
        "id": "xNzdbzPqkylB",
        "outputId": "4f77eaee-5d43-4fc5-c394-040e0957b580"
      },
      "execution_count": 12,
      "outputs": [
        {
          "output_type": "execute_result",
          "data": {
            "text/plain": [
              "7"
            ]
          },
          "metadata": {},
          "execution_count": 12
        }
      ]
    },
    {
      "cell_type": "code",
      "execution_count": 8,
      "metadata": {
        "id": "OKFXnqpCYu17"
      },
      "outputs": [],
      "source": [
        "class Birds:\n",
        "  def __init__(self, bird_name):\n",
        "    self.bird_name = bird_name\n",
        "  def flying_birds(self):\n",
        "    print(f'{self.bird_name} flies above clouds')\n",
        "  def non_flying_birds(self):\n",
        "    print(f'{self.bird_name} is the national bird of the Philippines')\n",
        "\n",
        "vulture = Birds(\"Griffon Vulture\")\n",
        "crane = Birds(\"Common Crane\")\n",
        "emu = Birds(\"Emu Birds\")"
      ]
    },
    {
      "cell_type": "markdown",
      "source": [
        "Inheritance"
      ],
      "metadata": {
        "id": "1iHidcKclbtx"
      }
    },
    {
      "cell_type": "code",
      "source": [
        "class Person:\n",
        "  def __init__(self, name, bday):\n",
        "    self.name = name\n",
        "    self.bday = bday\n",
        "\n",
        "  def display(self):\n",
        "    print(f'My name is', self.name)\n",
        "    print(f'My bday is', self.bday)\n",
        "\n",
        "student = Person(\"Alwin\", \"April 29, 2003\")\n",
        "student.display()"
      ],
      "metadata": {
        "colab": {
          "base_uri": "https://localhost:8080/"
        },
        "id": "dDTLChb0fi6d",
        "outputId": "1849a3cc-5c84-45a9-e5c6-916940b461fe"
      },
      "execution_count": 9,
      "outputs": [
        {
          "output_type": "stream",
          "name": "stdout",
          "text": [
            "My name is Alwin\n",
            "My bday is April 29, 2003\n"
          ]
        }
      ]
    },
    {
      "cell_type": "markdown",
      "source": [
        "Activity"
      ],
      "metadata": {
        "id": "xlW_yjUklddR"
      }
    },
    {
      "cell_type": "code",
      "source": [
        "class Shapes:\n",
        "\n",
        "  def __init__(self, square, rectangle, kite, circle, triangle):\n",
        "    \n",
        "    self.__square =  square\n",
        "    self.__rectangle =  rectangle\n",
        "    self.__kite =  kite\n",
        "    self.__circle =  circle\n",
        "    self.__triangle =  triangle\n",
        "\n",
        "  def display(self):\n",
        "\n",
        "    print(f'{self.__square} has four sides')\n",
        "    print(f'{self.__rectangle} has four sides')\n",
        "    print(f'{self.__kite} has four sides')\n",
        "    print(f'{self.__circle} has no sides')\n",
        "    print(f'{self.__triangle} has three sides')\n",
        "\n",
        "shapes = Shapes('Square', 'Rectangle', 'Kite', 'Circle', 'Triangle')\n",
        "shapes.display()"
      ],
      "metadata": {
        "colab": {
          "base_uri": "https://localhost:8080/"
        },
        "id": "2e63NnUMlgkK",
        "outputId": "508cdb33-e8b7-4ac9-fffd-ec0747b23505"
      },
      "execution_count": 19,
      "outputs": [
        {
          "output_type": "stream",
          "name": "stdout",
          "text": [
            "Square has four sides\n",
            "Rectangle has four sides\n",
            "Kite has four sides\n",
            "Circle has no sides\n",
            "Triangle has three sides\n"
          ]
        }
      ]
    }
  ]
}