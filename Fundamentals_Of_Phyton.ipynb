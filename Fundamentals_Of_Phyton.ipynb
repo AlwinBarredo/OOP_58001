{
  "nbformat": 4,
  "nbformat_minor": 0,
  "metadata": {
    "colab": {
      "provenance": []
    },
    "kernelspec": {
      "name": "python3",
      "display_name": "Python 3"
    },
    "language_info": {
      "name": "python"
    }
  },
  "cells": [
    {
      "cell_type": "markdown",
      "source": [
        "Indentation"
      ],
      "metadata": {
        "id": "u93pRd__R3-N"
      }
    },
    {
      "cell_type": "code",
      "execution_count": null,
      "metadata": {
        "colab": {
          "base_uri": "https://localhost:8080/"
        },
        "id": "DtSGaCTGP9CL",
        "outputId": "a2b89a85-fdab-4a17-8a89-2512416d744a"
      },
      "outputs": [
        {
          "output_type": "stream",
          "name": "stdout",
          "text": [
            "5 > 2\n"
          ]
        }
      ],
      "source": [
        "if 5>2:\n",
        " print(\"5 > 2\")"
      ]
    },
    {
      "cell_type": "markdown",
      "source": [
        "Python Comment"
      ],
      "metadata": {
        "id": "a5tYmQFbSVk-"
      }
    },
    {
      "cell_type": "code",
      "source": [
        "#This is a comment\n",
        "print(\"Hello World\")"
      ],
      "metadata": {
        "colab": {
          "base_uri": "https://localhost:8080/"
        },
        "id": "Qj7YuDDkSeLE",
        "outputId": "1ad215f9-46f2-41fd-c0d4-b6befae829ff"
      },
      "execution_count": null,
      "outputs": [
        {
          "output_type": "stream",
          "name": "stdout",
          "text": [
            "Hello World\n"
          ]
        }
      ]
    },
    {
      "cell_type": "markdown",
      "source": [
        "Python Variable"
      ],
      "metadata": {
        "id": "ORAesvXLTQxd"
      }
    },
    {
      "cell_type": "code",
      "source": [
        "x = 1\n",
        "#single variable with multiple values\n",
        "array = [1,2,3]\n",
        "print (array)\n",
        "\n",
        "a = b = c = \"Alwin\"\n",
        "d = \"Pogi\"\n",
        "e = \"si\"\n",
        "print (a+d)\n",
        "print (d+e+b)"
      ],
      "metadata": {
        "colab": {
          "base_uri": "https://localhost:8080/"
        },
        "id": "dNMSiLmATl6e",
        "outputId": "cf16467c-5d96-4065-c67f-05e425ba1aae"
      },
      "execution_count": null,
      "outputs": [
        {
          "output_type": "stream",
          "name": "stdout",
          "text": [
            "[1, 2, 3]\n",
            "AlwinPogi\n",
            "PogisiAlwin\n"
          ]
        }
      ]
    },
    {
      "cell_type": "markdown",
      "source": [
        "Casting"
      ],
      "metadata": {
        "id": "xQ96Fax1U4QJ"
      }
    },
    {
      "cell_type": "code",
      "source": [
        "n = int(4)\n",
        "print(n)"
      ],
      "metadata": {
        "colab": {
          "base_uri": "https://localhost:8080/"
        },
        "id": "QP1ADPIGU134",
        "outputId": "5d3a993c-f23f-43f8-e66e-028dd5f783c3"
      },
      "execution_count": null,
      "outputs": [
        {
          "output_type": "stream",
          "name": "stdout",
          "text": [
            "4\n"
          ]
        }
      ]
    },
    {
      "cell_type": "markdown",
      "source": [
        "Type() Function"
      ],
      "metadata": {
        "id": "HAJBnfdrVIBP"
      }
    },
    {
      "cell_type": "code",
      "source": [
        "c = \"Sally\"\n",
        "d = 5.6\n",
        "print(type(c))\n",
        "print(type(d))"
      ],
      "metadata": {
        "colab": {
          "base_uri": "https://localhost:8080/"
        },
        "id": "-QLNjFU_VLi6",
        "outputId": "dfdf0653-8d3e-438d-a721-e9a7fccf2183"
      },
      "execution_count": null,
      "outputs": [
        {
          "output_type": "stream",
          "name": "stdout",
          "text": [
            "<class 'str'>\n",
            "<class 'float'>\n"
          ]
        }
      ]
    }
  ]
}