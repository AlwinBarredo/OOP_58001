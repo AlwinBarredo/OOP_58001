{
  "nbformat": 4,
  "nbformat_minor": 0,
  "metadata": {
    "colab": {
      "provenance": [],
      "authorship_tag": "ABX9TyMgdr6wkUyhZrhu/Z7fHeON",
      "include_colab_link": true
    },
    "kernelspec": {
      "name": "python3",
      "display_name": "Python 3"
    },
    "language_info": {
      "name": "python"
    }
  },
  "cells": [
    {
      "cell_type": "markdown",
      "metadata": {
        "id": "view-in-github",
        "colab_type": "text"
      },
      "source": [
        "<a href=\"https://colab.research.google.com/github/AlwinBarredo/OOP_58001/blob/main/Concepts_in_oop.ipynb\" target=\"_parent\"><img src=\"https://colab.research.google.com/assets/colab-badge.svg\" alt=\"Open In Colab\"/></a>"
      ]
    },
    {
      "cell_type": "code",
      "execution_count": 3,
      "metadata": {
        "colab": {
          "base_uri": "https://localhost:8080/"
        },
        "id": "chisZRSg0pK9",
        "outputId": "9577a916-4130-47d8-adad-91871c1b6c13"
      },
      "outputs": [
        {
          "output_type": "stream",
          "name": "stdout",
          "text": [
            "Alwin P. Barredo\n",
            "202211983\n",
            "Adamson University\n"
          ]
        }
      ],
      "source": [
        "class info:\n",
        "  def __init__(self, fname, stnum, school):\n",
        "    self.fname = fname\n",
        "    self.stnum = stnum\n",
        "    self.school = school\n",
        "\n",
        "  def display(self):\n",
        "    print(\"Hello, my name is\", self.fname)\n",
        "    print(\"My student number is\", self.stnum)\n",
        "    print(\"I study at\", self.school)\n",
        "\n",
        "information = info(\"Alwin P. Barredo\", 202211983, \"Adamson University\")\n",
        "print(information.fname)\n",
        "print(information.stnum)\n",
        "print(information.school)"
      ]
    }
  ]
}