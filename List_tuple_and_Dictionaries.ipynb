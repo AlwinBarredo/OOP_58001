{
  "nbformat": 4,
  "nbformat_minor": 0,
  "metadata": {
    "colab": {
      "provenance": [],
      "authorship_tag": "ABX9TyOtpZi2QLkndKMUklyJyH2N",
      "include_colab_link": true
    },
    "kernelspec": {
      "name": "python3",
      "display_name": "Python 3"
    },
    "language_info": {
      "name": "python"
    }
  },
  "cells": [
    {
      "cell_type": "markdown",
      "metadata": {
        "id": "view-in-github",
        "colab_type": "text"
      },
      "source": [
        "<a href=\"https://colab.research.google.com/github/AlwinBarredo/OOP_58001/blob/main/List_tuple_and_Dictionaries.ipynb\" target=\"_parent\"><img src=\"https://colab.research.google.com/assets/colab-badge.svg\" alt=\"Open In Colab\"/></a>"
      ]
    },
    {
      "cell_type": "markdown",
      "source": [
        "Function"
      ],
      "metadata": {
        "id": "xyTRGzNFKmjb"
      }
    },
    {
      "cell_type": "code",
      "execution_count": 2,
      "metadata": {
        "colab": {
          "base_uri": "https://localhost:8080/"
        },
        "id": "bxXae0OGJ5Fz",
        "outputId": "01cc036b-0214-408d-a796-33291d4adef1"
      },
      "outputs": [
        {
          "output_type": "execute_result",
          "data": {
            "text/plain": [
              "50"
            ]
          },
          "metadata": {},
          "execution_count": 2
        }
      ],
      "source": [
        "def remainder(n,m):\n",
        "  while True:\n",
        "    if n-m< 0:\n",
        "      return n\n",
        "    else:\n",
        "      n = n - m\n",
        "  remainder(10,4)\n",
        "\n",
        "class Shapes:\n",
        "  def __init__(self,length,width):\n",
        "    self.length = length\n",
        "    self.width = width\n",
        "  def area(self):\n",
        "    return self. length * self.width\n",
        "rectangle = Shapes(10,5)\n",
        "rectangle.area()"
      ]
    },
    {
      "cell_type": "code",
      "source": [
        "pow (10,2)\n",
        "array = [\"apple\",\"banana\",\"orange\"]\n",
        "array.insert(0,\"cherry\")\n",
        "print(array)\n",
        "\n",
        "class Shapes:\n",
        "  def __init__(self,side):\n",
        "    self.side = side\n",
        "  def arearec(self):\n",
        "    return self. length * self.width\n",
        "  def areasqr(self):\n",
        "    return self.side**2\n",
        "square =  Shapes(5)\n",
        "rectangle.area()\n",
        "square.areasqr()"
      ],
      "metadata": {
        "colab": {
          "base_uri": "https://localhost:8080/"
        },
        "id": "h11ED6LVK_lS",
        "outputId": "933200e1-dbbc-42c3-eb0c-e2ac554049ca"
      },
      "execution_count": 3,
      "outputs": [
        {
          "output_type": "stream",
          "name": "stdout",
          "text": [
            "['cherry', 'apple', 'banana', 'orange']\n"
          ]
        },
        {
          "output_type": "execute_result",
          "data": {
            "text/plain": [
              "25"
            ]
          },
          "metadata": {},
          "execution_count": 3
        }
      ]
    },
    {
      "cell_type": "code",
      "source": [
        "class Person:\n",
        "  def __init__(self,name,age):\n",
        "    self.name = name\n",
        "    self.age = age\n",
        "  def nameage(self):\n",
        "    return self.name + self.age\n",
        "nameage = Person (\"Alwin Barredo\",\" 19\")\n",
        "nameage.nameage()"
      ],
      "metadata": {
        "colab": {
          "base_uri": "https://localhost:8080/",
          "height": 35
        },
        "id": "4tbbYsXTLGBK",
        "outputId": "26bb7201-db30-462a-88ff-3d793a1cf5b8"
      },
      "execution_count": 5,
      "outputs": [
        {
          "output_type": "execute_result",
          "data": {
            "text/plain": [
              "'Alwin Barredo 19'"
            ],
            "application/vnd.google.colaboratory.intrinsic+json": {
              "type": "string"
            }
          },
          "metadata": {},
          "execution_count": 5
        }
      ]
    },
    {
      "cell_type": "markdown",
      "source": [
        "List"
      ],
      "metadata": {
        "id": "KHOPj7fnLMUq"
      }
    },
    {
      "cell_type": "code",
      "source": [
        "pi = 3.14159\n",
        "varList = ['abc', 1,'def',2]\n",
        "print(varList[0])\n",
        "\n",
        "varList.append('ghi')\n",
        "print(varList)\n",
        "varList.remove(2)\n",
        "print(varList)\n",
        "varList.insert(3,3)\n",
        "print(varList)"
      ],
      "metadata": {
        "colab": {
          "base_uri": "https://localhost:8080/"
        },
        "id": "ECokM4xtLM9L",
        "outputId": "70fbdf62-27e6-4168-c574-e51fc1fe71d2"
      },
      "execution_count": 6,
      "outputs": [
        {
          "output_type": "stream",
          "name": "stdout",
          "text": [
            "abc\n",
            "['abc', 1, 'def', 2, 'ghi']\n",
            "['abc', 1, 'def', 'ghi']\n",
            "['abc', 1, 'def', 3, 'ghi']\n"
          ]
        }
      ]
    },
    {
      "cell_type": "markdown",
      "source": [
        "Dictionaries"
      ],
      "metadata": {
        "id": "-Q-KNgRiLPU6"
      }
    },
    {
      "cell_type": "code",
      "source": [
        "students = {\n",
        "    1 : \"anna\",\n",
        "    2 : \"billy\",\n",
        "    3 : \"maria\",\n",
        "    4 : \"joy\"\n",
        "}\n",
        "print(students)"
      ],
      "metadata": {
        "colab": {
          "base_uri": "https://localhost:8080/"
        },
        "id": "2td5i82sLRBi",
        "outputId": "997f4d8f-e39c-4d54-a2e6-402bef19e7ca"
      },
      "execution_count": 7,
      "outputs": [
        {
          "output_type": "stream",
          "name": "stdout",
          "text": [
            "{1: 'anna', 2: 'billy', 3: 'maria', 4: 'joy'}\n"
          ]
        }
      ]
    }
  ]
}