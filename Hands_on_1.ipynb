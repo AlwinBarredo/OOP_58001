{
  "nbformat": 4,
  "nbformat_minor": 0,
  "metadata": {
    "colab": {
      "provenance": [],
      "authorship_tag": "ABX9TyOvimg761LAbQ7Q721MLwQM",
      "include_colab_link": true
    },
    "kernelspec": {
      "name": "python3",
      "display_name": "Python 3"
    },
    "language_info": {
      "name": "python"
    }
  },
  "cells": [
    {
      "cell_type": "markdown",
      "metadata": {
        "id": "view-in-github",
        "colab_type": "text"
      },
      "source": [
        "<a href=\"https://colab.research.google.com/github/AlwinBarredo/OOP_58001/blob/main/Hands_on_1.ipynb\" target=\"_parent\"><img src=\"https://colab.research.google.com/assets/colab-badge.svg\" alt=\"Open In Colab\"/></a>"
      ]
    },
    {
      "cell_type": "code",
      "source": [
        "class Person:\n",
        "  def __init__(self,student):\n",
        "    self.student = student\n",
        "    import random\n",
        "    self.__pre = int(input(\"Enter Prelim \"))\n",
        "    self.__mid = int(input(\"Enter Midterm \"))\n",
        "    self.__fin = int(input(\"Enter Finals \"))\n",
        "  def Grade(self):\n",
        "    return (self.__pre+self.__mid+self.__fin)/3    \n",
        "\n",
        "  def display(self):\n",
        "    print(f\"{self.student} have {self.__pre} for prelims, {self.__mid} for midterms, and {self.__fin} for finals with an average of {self.Grade()}\")\n",
        "\n",
        "class std1(Person):\n",
        "  def __init__(self):\n",
        "    print(\"Student1\")\n",
        "    super().__init__(\"Student 1\")\n",
        "    \n",
        "class std2(Person):\n",
        "  def __init__(self):\n",
        "    print(\"Student2\")\n",
        "    super().__init__(\"Student 2\")\n",
        "    \n",
        "class std3(Person):\n",
        "  def __init__(self):\n",
        "    print(\"Student3\")\n",
        "    super().__init__(\"Student 3\")\n",
        "    \n",
        "    print(\"Information about student's grade must be hidden from others\")\n",
        "\n",
        "Std1 = std1()\n",
        "Std2 = std2()\n",
        "Std3 = std3()\n",
        "\n",
        "\n",
        "Std1.display()\n",
        "Std2.display()\n",
        "Std3.display()\n",
        "\n",
        "   "
      ],
      "metadata": {
        "colab": {
          "base_uri": "https://localhost:8080/"
        },
        "id": "d_Q349LhmbKt",
        "outputId": "62f0d260-de57-4f8a-ed87-9b587ca15223"
      },
      "execution_count": 28,
      "outputs": [
        {
          "output_type": "stream",
          "name": "stdout",
          "text": [
            "Student1\n",
            "Enter Prelim 88\n",
            "Enter Midterm 88\n",
            "Enter Finals 88\n",
            "Student2\n",
            "Enter Prelim 88\n",
            "Enter Midterm 88\n",
            "Enter Finals 88\n",
            "Student3\n",
            "Enter Prelim 88\n",
            "Enter Midterm 88\n",
            "Enter Finals 88\n",
            "Information about student's grade must be hidden from others\n",
            "Student 1 have 88 for prelims, 88 for midterms, and 88 for finals with an average of 88.0\n",
            "Student 2 have 88 for prelims, 88 for midterms, and 88 for finals with an average of 88.0\n",
            "Student 3 have 88 for prelims, 88 for midterms, and 88 for finals with an average of 88.0\n"
          ]
        }
      ]
    }
  ]
}